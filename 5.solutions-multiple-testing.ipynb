{
 "cells": [
  {
   "cell_type": "markdown",
   "id": "63f72679-d1d8-4dbe-90e6-df28aa84fd99",
   "metadata": {},
   "source": [
    "# Solutions to the Multiple Testing Problem\n",
    "As mentioned at the end of the previous section, the multiple testing problem presents a big barrier to using the approach we have discussed so far. Luckily, there are some solutions available to get around this issue. In this section we will discuss the 3 main approaches you will need when working with SPM, although there are more ways of dealing with this issue that you may come across in the future.\n",
    "\n",
    "## Solution 1: A Stricter Threshold\n",
    "The first approach we might consider is to simply use a stricter threshold than 5%. Typically, in imaging, the most liberal threshold we can get away with is p < 0.001. By doing so, we reduce the number of false positive down to a worst-case scenario of 0.1% of the voxels. For an image of 100,000 voxels, this would mean 1000 false positives, for an image of 50,000 voxels this would mean 500 false positives and so on. Although this is still not great, it is nowhere near as bad as using the traditional 5% threshold. The advantage is that this will still retain good sensitivity, because we know we should also be seeing the majority of true effects as well. This is exemplified in the figure below, repeated from the previous page. Although there are lots of results outside the circle, importantly we have identified the majority of true positives inside the circle as well.\n",
    "\n",
    "## Solution 2: Control the Family-wise Error (FWE)\n",
    "An alternative to a stricter threshold is to try and control the FWER directly, to limit the possibility of any false positives. If we control the FWER at 5% it means that there is only a 5% chance of any false positives in the image. This means that after correction we can be 95% confident that there are no false positives at all in our image. If we were to repeat our experiment multiple times, and correct our images each time with a FWER procedure, we would only expect 5% of those repeats to contain false positives. So most of the time we can be pretty confident that any results that survive a FWE-correction procedure are true positives and not false positives. This is illustrated below in the figure from Poldrack, Mumford and Nichols (2011), where controlling the FWER at 10% leads to only 1/10 repeats showing any false positives. Of course, we should note what this had done to our ability to see the true positives within the yellow circle, compared to the uncorrected threshold we used earlier.\n",
    "\n",
    "### Bonferroni Correction\n",
    "\n",
    "\n",
    "\n",
    "### Random Field Theory Correction\n",
    "\n",
    "````{admonition} Advanced: How Does Random Field Theory Correction Work?\n",
    ":class: dropdown\n",
    "\n",
    "Beats me, I just work here.\n",
    "\n",
    "````\n",
    "\n",
    "## Solution 3: Control the False Discovery Rate (FDR)\n",
    "\n",
    "\n",
    "## Choosing a Threshold\n"
   ]
  },
  {
   "cell_type": "code",
   "execution_count": null,
   "id": "1205b30b-4d0e-4726-9fc0-61489bb8f8b0",
   "metadata": {},
   "outputs": [],
   "source": []
  }
 ],
 "metadata": {
  "kernelspec": {
   "display_name": "MATLAB Kernel",
   "language": "matlab",
   "name": "jupyter_matlab_kernel"
  },
  "language_info": {
   "file_extension": ".m",
   "mimetype": "text/x-matlab",
   "name": "matlab"
  }
 },
 "nbformat": 4,
 "nbformat_minor": 5
}
