{
 "cells": [
  {
   "cell_type": "markdown",
   "id": "63f72679-d1d8-4dbe-90e6-df28aa84fd99",
   "metadata": {},
   "source": [
    "# From Images to Inference\n",
    "In terms of our analysis process so far, we have managed to build a design matrix that reflects our experimental manipulations and then use that design matrix to estimate parameters at each voxel. These parameters reflect the average signal change associated with our experimental conditions, meaning that their magnitude is of direct interest. When we look at the images of parameter estimates, we can already see hot spots (both dark and light) that indicate brain regions where the parameter estimates are large, as shown in {numref}`param-images-fig`. This is suggestive of large signal changes relative to the baseline in those regions of the brain.\n",
    "\n",
    "```{figure} images/glm-param-images.png\n",
    "---\n",
    "width: 800px\n",
    "name: param-images-fig\n",
    "---\n",
    "Example of images of parameter estimates from the GLM.\n",
    "```   \n"
   ]
  },
  {
   "cell_type": "code",
   "execution_count": null,
   "id": "f7e10e7a-5342-4f40-8e60-f0e4f7b13a7b",
   "metadata": {},
   "outputs": [],
   "source": []
  }
 ],
 "metadata": {
  "kernelspec": {
   "display_name": "MATLAB Kernel",
   "language": "matlab",
   "name": "jupyter_matlab_kernel"
  },
  "language_info": {
   "file_extension": ".m",
   "mimetype": "text/x-matlab",
   "name": "matlab"
  }
 },
 "nbformat": 4,
 "nbformat_minor": 5
}
