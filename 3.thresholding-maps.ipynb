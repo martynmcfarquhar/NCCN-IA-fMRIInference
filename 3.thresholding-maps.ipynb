{
 "cells": [
  {
   "cell_type": "markdown",
   "id": "63f72679-d1d8-4dbe-90e6-df28aa84fd99",
   "metadata": {},
   "source": [
    "# Thresholding Statistical Maps\n",
    "\n",
    "\n",
    "```{important}\n",
    "Before moving on, there is one important detail about how p-values are calculated for t statistics in SPM that we need to understand. When SPM calculates a p-value for an associated t-value, it only uses the upper-tail of the null distribution. What does this mean? Practically, it means that the t-values need to be positive in order for the p-value to be significant. As shown in {numref}`upper-tail-p-fig`, a negative t-statistic will always result in a large p-value, even though this represent the same magnitude of effect, just in the opposite direction. Technically, this makes any hypothesis test in SPM that uses t-statistics a one-tailed hypotheses.\n",
    "\n",
    "```{figure} images/upper-tail-p.png\n",
    "---\n",
    "width: 800px\n",
    "name: upper-tail-p-fig\n",
    "---\n",
    "Illustration of how the $p$-values for $t$-statistics calculated in SPM are *upper-tail*, meaning we only significant effects for $t$-values that are both *large* and *positive*.\n",
    "```\n",
    "\n",
    "In terms of interpretation, using only upper-tail p-values means that we will only see significant results when the direction of the contrast matches the direction of the effect. To understand what this means, consider a simple example where we have Condition A and Condition B. If we use the contrast weights [1 -1] we will only see significant effects in places where the signal for A is larger than B. Conversely, if we used the contrast weights [-1 1] we would only see significant effects in places where the signal for B is larger than A.\n",
    "\n",
    "So we can test different directional hypotheses, depending upon the sign of the weights. Because of this, it is usual to describe these contrasts in terms of the direction they are testing. So [1 -1] would be described as \"Condition A > Condition B\" and [-1 1] could be described as \"Condition B > Condition A\". This will be clearer once you have a go at specifying contrasts in SPM, but just try and remember that t-contrasts in SPM are directional one-tailed tests, and that the sign of the weights determines the direction of effect that you are testing.\n",
    "```"
   ]
  }
 ],
 "metadata": {
  "kernelspec": {
   "display_name": "MATLAB Kernel",
   "language": "matlab",
   "name": "jupyter_matlab_kernel"
  },
  "language_info": {
   "file_extension": ".m",
   "mimetype": "text/x-matlab",
   "name": "matlab"
  }
 },
 "nbformat": 4,
 "nbformat_minor": 5
}
