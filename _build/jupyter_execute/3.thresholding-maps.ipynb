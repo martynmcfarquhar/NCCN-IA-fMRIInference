{
 "cells": [
  {
   "cell_type": "markdown",
   "id": "63f72679-d1d8-4dbe-90e6-df28aa84fd99",
   "metadata": {},
   "source": [
    "# Thresholding Statistical Maps\n",
    "\n",
    "\n",
    "```{important} Directional Inference\n",
    "Before moving on, there is one important detail about how p-values are calculated for t statistics in SPM that we need to understand. When SPM calculates a p-value for an associated t-value, it only uses the upper-tail of the null distribution. What does this mean? Practically, it means that the t-values need to be positive in order for the p-value to be significant. As shown below, a negative t-statistic will always result in a large p-value, even though this represent the same magnitude of effect, just in the opposite direction. Technically, this makes any hypothesis test in SPM that uses t-statistics a one-tailed hypotheses.\n",
    "\n",
    "Before moving on, there is one important detail about how p-values are calculated for t statistics in SPM that we need to understand. When SPM calculates a p-value for an associated t-value, it only uses the upper-tail of the null distribution. What does this mean? Practically, it means that the t-values need to be positive in order for the p-value to be significant. As shown below, a negative t-statistic will always result in a large p-value, even though this represent the same magnitude of effect, just in the opposite direction. Technically, this makes any hypothesis test in SPM that uses t-statistics a one-tailed hypotheses.\n",
    "```"
   ]
  }
 ],
 "metadata": {
  "kernelspec": {
   "display_name": "MATLAB Kernel",
   "language": "matlab",
   "name": "jupyter_matlab_kernel"
  },
  "language_info": {
   "file_extension": ".m",
   "mimetype": "text/x-matlab",
   "name": "matlab"
  }
 },
 "nbformat": 4,
 "nbformat_minor": 5
}