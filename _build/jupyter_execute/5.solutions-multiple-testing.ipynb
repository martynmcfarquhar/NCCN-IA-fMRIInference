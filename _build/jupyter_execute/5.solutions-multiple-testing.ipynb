{
 "cells": [
  {
   "cell_type": "markdown",
   "id": "63f72679-d1d8-4dbe-90e6-df28aa84fd99",
   "metadata": {},
   "source": [
    "# Solutions to the Multiple Testing Problem\n",
    "\n",
    "\n",
    "````{admonition} Advanced: How Does Random Field Theory Correction Work?\n",
    ":class: dropdown\n",
    "\n",
    "Beats me, I just work here.\n",
    "\n",
    "````\n"
   ]
  },
  {
   "cell_type": "code",
   "execution_count": null,
   "id": "1205b30b-4d0e-4726-9fc0-61489bb8f8b0",
   "metadata": {},
   "outputs": [],
   "source": []
  }
 ],
 "metadata": {
  "kernelspec": {
   "display_name": "MATLAB Kernel",
   "language": "matlab",
   "name": "jupyter_matlab_kernel"
  },
  "language_info": {
   "file_extension": ".m",
   "mimetype": "text/x-matlab",
   "name": "matlab"
  }
 },
 "nbformat": 4,
 "nbformat_minor": 5
}