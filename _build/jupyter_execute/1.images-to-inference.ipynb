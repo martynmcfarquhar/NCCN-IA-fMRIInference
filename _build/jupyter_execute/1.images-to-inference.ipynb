{
 "cells": [
  {
   "cell_type": "markdown",
   "id": "63f72679-d1d8-4dbe-90e6-df28aa84fd99",
   "metadata": {},
   "source": [
    "# From Images to Inference\n",
    "In terms of our analysis process so far, we have managed to build a design matrix that reflects our experimental manipulations and then use that design matrix to estimate parameters at each voxel. These parameters reflect the average signal change associated with our experimental conditions, meaning that their magnitude is of direct interest. When we look at the images of parameter estimates, we can already see hot spots (both dark and light) that indicate brain regions where the parameter estimates are large, as shown in {numref}`param-images-fig`. This is suggestive of large signal changes relative to the baseline in those regions of the brain.\n",
    "\n",
    "```{figure} images/glm-param-images.png\n",
    "---\n",
    "width: 800px\n",
    "name: param-images-fig\n",
    "---\n",
    "Example of images of parameter estimates from the GLM.\n",
    "```\n",
    "\n",
    "However, we know this is not the end of the process because somehow we have to get from these images of parameter estimates to the images of blobs that we see in scientific papers. This lesson is all about the process illustrated below in {numref}`estimates-blobs-fig`.\n",
    "\n",
    "```{figure} images/estimates-to-blobs.png\n",
    "---\n",
    "width: 800px\n",
    "name: estimates-blobs-fig\n",
    "---\n",
    "Illustration of the process of statistical inference using images. We need to go from an image of parameter estimates (*left*) to regions of significant activation (*right*). The steps illustrated by the orange arrow are the focus of this lesson. \n",
    "```\n",
    "\n",
    "By the end of this lesson we will have the complete picture of how to analyse fMRI data from a single subject, from *pre-processing* to *statistical modelling* and *inference*. As such, it will be a good idea at the end of this lesson to look back on the steps we have performed to make sure you have a clear picture in your mind of *what* we have done and *why*. In ths next lesson, we will look at how to generalise this process to allow us to make inference on a *group* of subjects."
   ]
  },
  {
   "cell_type": "code",
   "execution_count": null,
   "id": "f7e10e7a-5342-4f40-8e60-f0e4f7b13a7b",
   "metadata": {},
   "outputs": [],
   "source": []
  }
 ],
 "metadata": {
  "kernelspec": {
   "display_name": "MATLAB Kernel",
   "language": "matlab",
   "name": "jupyter_matlab_kernel"
  },
  "language_info": {
   "file_extension": ".m",
   "mimetype": "text/x-matlab",
   "name": "matlab"
  }
 },
 "nbformat": 4,
 "nbformat_minor": 5
}