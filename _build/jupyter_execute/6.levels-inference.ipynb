{
 "cells": [
  {
   "cell_type": "markdown",
   "id": "63f72679-d1d8-4dbe-90e6-df28aa84fd99",
   "metadata": {},
   "source": [
    "# Levels of Inference\n",
    "At this point, we are nearly at the end of our journey towards having some actual results. We have seen how to ask questions of our data using contrasts, create statistical maps from those contrasts and then finally threshold those maps using $p$-values corrected for multiple comparisons. At this stage, we could just stop and declare our findings based on where in the brain we see results after thresholding. However, there is one final choice we have to make in terms of our *level of inference*. This choice is based on the fact that the results at individual voxels are not necessarily the most interesting feature of an image. As such, we may want to evaluate our results using some other criteria that takes into account the *topology* of our statistical map.\n",
    "\n",
    "## Features of an image\n",
    "Although our analysis has so far treated our image as a collection of individual datasets at each voxel, we know that in reality there are spatial connections between those voxels. So far, we have basically ignored this. However, we should really think of our images as a set of *topological features*. To see this, consider the slice through a statistical map shown in {numref}`func-flat-intensity-fig`. Looking at the image this way shows how we have a *landscape* of features, consisting of mountains and valleys of test statistics across the image.\n",
    "\n",
    "```{figure} images/func-flat-intensity.png\n",
    "---\n",
    "width: 800px\n",
    "name: func-flat-intensity-fig\n",
    "---\n",
    "Illustration of how a statistical map can be considered a landscape of topological features, rather than just individual tests at each voxel.\n",
    "```"
   ]
  },
  {
   "cell_type": "code",
   "execution_count": null,
   "id": "33d08257-9044-495b-9385-be9457ce33e4",
   "metadata": {},
   "outputs": [],
   "source": []
  }
 ],
 "metadata": {
  "kernelspec": {
   "display_name": "MATLAB Kernel",
   "language": "matlab",
   "name": "jupyter_matlab_kernel"
  },
  "language_info": {
   "file_extension": ".m",
   "mimetype": "text/x-matlab",
   "name": "matlab"
  }
 },
 "nbformat": 4,
 "nbformat_minor": 5
}