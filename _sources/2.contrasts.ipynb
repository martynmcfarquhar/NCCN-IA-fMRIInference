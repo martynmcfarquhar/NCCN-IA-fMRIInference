{
 "cells": [
  {
   "cell_type": "markdown",
   "id": "63f72679-d1d8-4dbe-90e6-df28aa84fd99",
   "metadata": {},
   "source": [
    "# Contrasts\n",
    "Our first step towards trying to reach some conclusions about our data is to take the parameter estimate images and turn them into images of *statistics*. These images of statistics are known as *statistical parametric maps* (SPMs). In this section, we are going to explore how to create these statistical maps, before turning to what we actually do with them in a later section.\n",
    "\n",
    "## Forming a Statistical Parametric Map\n",
    "As we know from the world of mathematical statistics, we can use a parameter estimate and its standard error to form a test statistic by dividing one by the other, like so\n",
    "\n",
    "$$\n",
    "t = \\frac{\\hat{\\beta}_{k}}{\\sigma\\{\\beta_{k}\\}}\n",
    "$$\n",
    "\n",
    "where $\\sigma\\{\\beta_{k}\\}$ is the standard error of parameter estimate $k$. This value forms a standardised metric of the magnitude of our effect, relative to the degree of uncertainty. We can think of it as how large our effect is, per unit of uncertainty. In other words, in standard error units. The smaller the uncertainty, the larger $t$ will become.\n",
    "\n",
    "From the perspective of hypothesis testing, the value of $t$ represents an implicit comparison with a hypothesised population value of 0 for the parameter in question. So we are assessing the extent to which the population parameter is likely to be 0, given our degree of uncertainty. The larger $t$ becomes, the greater the discrepancy between the estimated parameter value and the hypothesised parameter value. In this instance, that means that the bigger $t$ becomes, the more unlikely it is that the parameter truly is 0 in the population. \n",
    "\n",
    "When dealing with *images* of parameter estimates, we can perform the same calculation each voxel, converting each parameter estimate into a t value. This forms a statistical parametric map of $t$-statistics, also known as an SPM{t} image, as shown in {numref}`creating-t-fig`.\n",
    "\n",
    "```{figure} images/creating-t.png\n",
    "---\n",
    "width: 800px\n",
    "name: creating-t-fig\n",
    "---\n",
    "Illustration of how an SPM{t} image can be created by dividing each voxel in the parameter estimate image by each voxel in the standard error image.\n",
    "```\n",
    "\n",
    "Notice already that this gives us some insight into why we want to create an image of statistics. If we just looked at the parameter estimates image we might see a larger effect in the brain stem. However, looking at the standard error image, this region has a large degree of uncertainty around the accuracy of this estimate. As such, once this uncertainty is taken into account, the effect in the brain stem disappears. This nicely highlights why we should take the degree of uncertainty into account before trying to interpret the values of the parameter estimates."
   ]
  },
  {
   "cell_type": "code",
   "execution_count": null,
   "id": "f7e10e7a-5342-4f40-8e60-f0e4f7b13a7b",
   "metadata": {},
   "outputs": [],
   "source": []
  }
 ],
 "metadata": {
  "kernelspec": {
   "display_name": "MATLAB Kernel",
   "language": "matlab",
   "name": "jupyter_matlab_kernel"
  },
  "language_info": {
   "file_extension": ".m",
   "mimetype": "text/x-matlab",
   "name": "matlab"
  }
 },
 "nbformat": 4,
 "nbformat_minor": 5
}
