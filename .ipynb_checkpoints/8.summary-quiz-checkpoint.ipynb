{
 "cells": [
  {
   "cell_type": "markdown",
   "id": "698d8f5a-944d-449a-a9b1-3799ac19aff4",
   "metadata": {},
   "source": [
    "# Summary\n",
    "In this lesson, we have seen how to take the results of our estimated model and specify hypothesis tests about the parameters to reach conclusions about our experimental effects. In doing so, we have completed all the steps necessary to analyse fMRI data from a single subject. It is worth reflecting on the process at this point to make sure it is clear. We first pre-processed the data, then specified and estimated a model of that data, and then finally used that model to test hypotheses about our experiment. The outcome was a set of thresholded statistical maps that localise where in the brain there is an association between the BOLD signal and our experimental effects. The only challenge we have left is understanding how we can use all of this information to reach conclusions about *all* our subjects. That will be the focus of the next lesson. For now, make sure you have got a handle on some of the trickier aspects of this lesson that often trip students up. This includes using contrasts to specify hypotheses and understanding the difference between cluster and voxel-level inference."
   ]
  },
  {
   "cell_type": "markdown",
   "id": "be9316a7-3c14-4282-8fd6-3a9418939e28",
   "metadata": {},
   "source": [
    "<iframe width=\"800px\" height=\"800px\" src=\"https://forms.office.com/Pages/ResponsePage.aspx?id=B8tSwU5hu0qBivA1z6kad9kpLkNdubNGu77CLsl9k_lURVQzRUs2SlhZT0YxTFdSVDVLTTg4UEFSRy4u&embed=true\" frameborder=\"0\" marginwidth=\"0\" marginheight=\"0\" style=\"border: none; max-width:100%; max-height:100vh\" allowfullscreen webkitallowfullscreen mozallowfullscreen msallowfullscreen> </iframe>"
   ]
  },
  {
   "cell_type": "code",
   "execution_count": null,
   "id": "4212af7e-7a72-4f85-9866-7c877fe17b4b",
   "metadata": {},
   "outputs": [],
   "source": []
  }
 ],
 "metadata": {
  "kernelspec": {
   "display_name": "MATLAB Kernel",
   "language": "matlab",
   "name": "jupyter_matlab_kernel"
  },
  "language_info": {
   "file_extension": ".m",
   "mimetype": "text/x-matlab",
   "name": "matlab"
  }
 },
 "nbformat": 4,
 "nbformat_minor": 5
}
