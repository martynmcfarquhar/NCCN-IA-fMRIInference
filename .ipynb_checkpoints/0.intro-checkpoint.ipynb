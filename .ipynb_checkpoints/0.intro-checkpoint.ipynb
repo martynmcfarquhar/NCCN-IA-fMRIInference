{
 "cells": [
  {
   "cell_type": "markdown",
   "id": "0aff9971-428c-4632-8dcc-2451ce81b45b",
   "metadata": {
    "tags": []
   },
   "source": [
    "# Introduction\n",
    "In the previous lesson, we saw how to model data from a single subject using the GLM framework. By the end of that lesson, we had a set of images that contained parameter estimates for our effects of interest. Although we could look at these and see some areas where there appeared to be local effects, we could not reach any solid conclusions about which areas of the brain were related to our task. In this lesson, we are going to see how we can take those parameter estimate images and turn them into a set of results that allow us to reach conclusions about which brain regions are associated with the experimental manipulation. By the end of this lesson, you will have the complete picture of how to analyse fMRI data from a single subject.\n",
    "\n",
    "## Contents\n",
    "\n",
    "```{tableofcontents}\n",
    "```\n",
    "\n",
    "## About the Author\n",
    "\n",
    "```{figure} images/martyn.jpeg\n",
    "---\n",
    "scale: 15%\n",
    "align: right\n",
    "---\n",
    "```\n",
    "\n",
    "**Dr Martyn McFarquhar | PhD FHEA**\n",
    "\n",
    "Lecturer in Neuroimaging\n",
    "\n",
    "4.31 Booth Street East | Division of Psychology, Communication and Human Neuroscience | School of Health Sciences | The University of Manchester M13 9PL\n",
    "\n",
    "t: +44 (0)161 275 2688 | e: [martyn.mcfarquhar@manchester.ac.uk](mailto:martyn.mcfarquhar@manchester.ac.uk)"
   ]
  }
 ],
 "metadata": {
  "kernelspec": {
   "display_name": "MATLAB Kernel",
   "language": "matlab",
   "name": "jupyter_matlab_kernel"
  },
  "language_info": {
   "file_extension": ".m",
   "mimetype": "text/x-matlab",
   "name": "matlab"
  }
 },
 "nbformat": 4,
 "nbformat_minor": 5
}
